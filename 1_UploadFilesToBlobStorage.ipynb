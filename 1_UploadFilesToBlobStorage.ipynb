{
 "cells": [
  {
   "cell_type": "markdown",
   "metadata": {},
   "source": [
    "This is me goofing off with python to show how to upload files to an index with vectors and then search for them with azure ai search and finally combine that with AOAI"
   ]
  },
  {
   "cell_type": "code",
   "execution_count": 20,
   "metadata": {},
   "outputs": [
    {
     "data": {
      "text/plain": [
       "True"
      ]
     },
     "execution_count": 20,
     "metadata": {},
     "output_type": "execute_result"
    }
   ],
   "source": [
    "import os\n",
    "from dotenv import load_dotenv  \n",
    "from azure.identity import DefaultAzureCredential\n",
    "from azure.storage.blob import BlobServiceClient, ContainerClient\n",
    "\n",
    "# Configure environment variables  \n",
    "load_dotenv()"
   ]
  },
  {
   "cell_type": "code",
   "execution_count": 27,
   "metadata": {},
   "outputs": [],
   "source": [
    "default_credential = DefaultAzureCredential()\n",
    "\n",
    "# Create the BlobServiceClient object\n",
    "blob_service_client = BlobServiceClient(os.environ.get(\"STORAGE_ACCOUNT_URL\"), credential=default_credential)"
   ]
  },
  {
   "cell_type": "code",
   "execution_count": 22,
   "metadata": {},
   "outputs": [],
   "source": [
    "# Create a container named 'policy-docs' in the storage account\n",
    "container_name = \"policy-docs\"\n",
    "\n",
    "container_client = ContainerClient.from_container_url(os.environ.get(\"STORAGE_ACCOUNT_URL\") + \"/\" + container_name, credential=default_credential)\n",
    "\n",
    "# Create container if it does not exist\n",
    "if not container_client.exists():\n",
    "    container_client = blob_service_client.create_container(container_name)\n"
   ]
  },
  {
   "cell_type": "code",
   "execution_count": 28,
   "metadata": {},
   "outputs": [
    {
     "name": "stdout",
     "output_type": "stream",
     "text": [
      "\n",
      "Uploading to Azure Storage as blob:\n",
      "\tBenefit_Options.pdf\n",
      "\n",
      "Uploading to Azure Storage as blob:\n",
      "\temployee_handbook.pdf\n",
      "\n",
      "Uploading to Azure Storage as blob:\n",
      "\tNorthwind_Health_Plus_Benefits_Details.pdf\n",
      "\n",
      "Uploading to Azure Storage as blob:\n",
      "\tNorthwind_Standard_Benefits_Details.pdf\n",
      "\n",
      "Uploading to Azure Storage as blob:\n",
      "\tPerksPlus.pdf\n",
      "\n",
      "Uploading to Azure Storage as blob:\n",
      "\trole_library.pdf\n"
     ]
    }
   ],
   "source": [
    "local_directory = \"policy-docs\"\n",
    "\n",
    "# Iterate over the files in the local directory\n",
    "for filename in os.listdir(local_directory):\n",
    "    file_path = os.path.join(local_directory, filename)\n",
    "    \n",
    "    # Create a blob client using the local file name as the name for the blob\n",
    "    blob_client = blob_service_client.get_blob_client(container=container_name, blob=filename)\n",
    "\n",
    "    print(\"\\nUploading to Azure Storage as blob:\\n\\t\" + filename)\n",
    "\n",
    "    # Upload the file (I'm using Storage Blob Data Contributor role)\n",
    "    with open(file=file_path, mode=\"rb\") as data:\n",
    "        blob_client.upload_blob(data)\n"
   ]
  },
  {
   "cell_type": "code",
   "execution_count": 29,
   "metadata": {},
   "outputs": [
    {
     "name": "stdout",
     "output_type": "stream",
     "text": [
      "Benefit_Options.pdf\n",
      "Northwind_Health_Plus_Benefits_Details.pdf\n",
      "Northwind_Standard_Benefits_Details.pdf\n",
      "PerksPlus.pdf\n",
      "employee_handbook.pdf\n",
      "role_library.pdf\n"
     ]
    }
   ],
   "source": [
    "# Get the container client\n",
    "container_client = blob_service_client.get_container_client(container_name)\n",
    "\n",
    "# List the blobs in the container\n",
    "blobs = container_client.list_blobs()\n",
    "\n",
    "# Print the names of the blobs\n",
    "for blob in blobs:\n",
    "    print(blob.name)"
   ]
  }
 ],
 "metadata": {
  "kernelspec": {
   "display_name": ".venv",
   "language": "python",
   "name": "python3"
  },
  "language_info": {
   "codemirror_mode": {
    "name": "ipython",
    "version": 3
   },
   "file_extension": ".py",
   "mimetype": "text/x-python",
   "name": "python",
   "nbconvert_exporter": "python",
   "pygments_lexer": "ipython3",
   "version": "3.12.0"
  }
 },
 "nbformat": 4,
 "nbformat_minor": 2
}
